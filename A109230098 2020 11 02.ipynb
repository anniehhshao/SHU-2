{
 "cells": [
  {
   "cell_type": "code",
   "execution_count": 1,
   "metadata": {
    "scrolled": true
   },
   "outputs": [
    {
     "name": "stdout",
     "output_type": "stream",
     "text": [
      "MemberKaren  ,discount0.35\n",
      "MemberSammy  ,discount0.40\n",
      "MemberJoJo   ,discount0.42\n"
     ]
    }
   ],
   "source": [
    "#2-24\n",
    "print('Member{0:7s},discount{1:3.2f}'.format('Karen',0.35))\n",
    "print('Member{0:7s},discount{1:3.2f}'.format('Sammy',0.4))\n",
    "print('Member{0:7s},discount{1:3.2f}'.format('JoJo',0.42))"
   ]
  },
  {
   "cell_type": "code",
   "execution_count": 2,
   "metadata": {},
   "outputs": [
    {
     "name": "stdout",
     "output_type": "stream",
     "text": [
      "                tall short               \n",
      "              strong weak                \n",
      "               thick thin                \n"
     ]
    }
   ],
   "source": [
    "#2-24\n",
    "print('%20s %-20s'%('tall','short'))\n",
    "print('%20s %-20s'%('strong','weak'))\n",
    "print('%20s %-20s'%('thick','thin'))"
   ]
  },
  {
   "cell_type": "code",
   "execution_count": 3,
   "metadata": {},
   "outputs": [
    {
     "name": "stdout",
     "output_type": "stream",
     "text": [
      "   Apple's Products: iphone              \n",
      "                     iMac                \n",
      "                     Apple Watch         \n",
      "                     ...                 \n"
     ]
    }
   ],
   "source": [
    "#2-24\n",
    "print('%20s %-20s'%(\"Apple\\'s Products:\",'iphone'))\n",
    "print('%20s %-20s'%('','iMac'))\n",
    "print('%20s %-20s'%('','Apple Watch'))\n",
    "print('%20s %-20s'%('','...'))"
   ]
  },
  {
   "cell_type": "code",
   "execution_count": 4,
   "metadata": {},
   "outputs": [
    {
     "name": "stdout",
     "output_type": "stream",
     "text": [
      "City            Celsius\n",
      "Taipei            33.20\n",
      "Yilan             32.93\n",
      "MiaoLi            32.29\n",
      "Taichung          32.48\n",
      "HuaLian           33.87\n"
     ]
    }
   ],
   "source": [
    "#2-24\n",
    "print('%-15s %7s'%('City','Celsius'))\n",
    "print('%-15s %7.2f'%('Taipei',33.2))\n",
    "print('%-15s %7.2f'%('Yilan',32.93))\n",
    "print('%-15s %7.2f'%('MiaoLi',32.29))\n",
    "print('%-15s %7.2f'%('Taichung',32.48))\n",
    "print('%-15s %7.2f'%('HuaLian',33.87))"
   ]
  },
  {
   "cell_type": "code",
   "execution_count": 5,
   "metadata": {},
   "outputs": [
    {
     "name": "stdout",
     "output_type": "stream",
     "text": [
      "|    22     44     66     88|\n",
      "|33     55     77     99    |\n",
      "|   222    444    666    888|\n",
      "|333    555    777    999   |\n"
     ]
    }
   ],
   "source": [
    "#2-25\n",
    "print('|%6d %6d %6d %6d|'%(22,44,66,88))\n",
    "print('|%-6d %-6d %-6d %-6d|'%(33,55,77,99))\n",
    "print('|%6d %6d %6d %6d|'%(222,444,666,888))\n",
    "print('|%-6d %-6d %-6d %-6d|'%(333,555,777,999))"
   ]
  },
  {
   "cell_type": "code",
   "execution_count": 6,
   "metadata": {},
   "outputs": [
    {
     "name": "stdout",
     "output_type": "stream",
     "text": [
      "---------\n",
      "Learning Python now \n",
      "Python is fun\n",
      "---------\n"
     ]
    }
   ],
   "source": [
    "#2-25\n",
    "print('---------')\n",
    "print('Learning Python now \\nPython is fun')\n",
    "print('---------')\n",
    "\n"
   ]
  },
  {
   "cell_type": "code",
   "execution_count": 7,
   "metadata": {},
   "outputs": [
    {
     "name": "stdout",
     "output_type": "stream",
     "text": [
      "|     12345        12   1234567|\n",
      "Radius:  5,Area:     15.71\n",
      "    123.46\n",
      "              1   43400.20\n",
      "x=  123,y=  12345\n"
     ]
    }
   ],
   "source": [
    "#2-25\n",
    "print('|%10d %9d %9d|'%(12345,12,1234567))\n",
    "print('Radius:{a:3d},Area:{x:10.2f}'.format(a=5,x=5*3.14159))\n",
    "print('{0:10.2f}'.format(123.456))\n",
    "print('%15d %10.2f'%(1,43400.2))\n",
    "print('x={a:5d},y={b:7d}'.format(a=123,b=12345))"
   ]
  },
  {
   "cell_type": "code",
   "execution_count": 8,
   "metadata": {},
   "outputs": [
    {
     "name": "stdout",
     "output_type": "stream",
     "text": [
      "Using format\n",
      "123.46       45.68\n",
      "123456.79   78901.23\n",
      "\n",
      "\n",
      "Using .format\n",
      "123.46     , 45.68\n",
      "123456.79  ,78901.23\n",
      "\n",
      "\n",
      "Using %\n",
      "123.46     45.68 \n",
      "123456.79  78901.23\n"
     ]
    }
   ],
   "source": [
    "#2-26\n",
    "print('Using format')\n",
    "print(format(123.456,'<11.2f'),format(45.678,'6.2f'))\n",
    "print(format(123456.79,'<11.2f'),format(78901.234,'6.2f'))\n",
    "print('\\n')\n",
    "print('Using .format')\n",
    "print('{0:<11.2f},{1:6.2f}'.format(123.456,45.678))\n",
    "print('{0:<11.2f},{1:6.2f}'.format(123456.79,78901.234))\n",
    "print('\\n')\n",
    "print('Using %')\n",
    "print('%-11.2f%-6.2f'%(123.456,45.678))\n",
    "print('%-11.2f%-6.2f'%(123456.79,78901.234))\n"
   ]
  },
  {
   "cell_type": "code",
   "execution_count": 9,
   "metadata": {},
   "outputs": [
    {
     "name": "stdout",
     "output_type": "stream",
     "text": [
      "Enter height:3\n",
      "Enter weight:4\n",
      "Height= 3.00\n",
      "Weight= 4.00\n",
      "Perimeter=14.00\n",
      "Area= 12.00\n"
     ]
    }
   ],
   "source": [
    "#3-29\n",
    "a=eval(input('Enter height:'))\n",
    "b=eval(input('Enter weight:'))\n",
    "print('Height=%5.2f'%(a))\n",
    "print('Weight=%5.2f'%(b))\n",
    "print('Perimeter=%5.2f'%(a*2+b*2))\n",
    "print('Area=%6.2f'%(a*b))"
   ]
  },
  {
   "cell_type": "code",
   "execution_count": 10,
   "metadata": {},
   "outputs": [
    {
     "name": "stdout",
     "output_type": "stream",
     "text": [
      "3\n",
      "Area=0.433,Height=0.866\n"
     ]
    }
   ],
   "source": [
    "#3-29\n",
    "total_length=eval(input())\n",
    "single_length=total_length/3\n",
    "height=single_length*(3**0.5)/2\n",
    "area=single_length**2*(3**0.5)/4\n",
    "print('Area=%.3f,Height=%.3f'%(area,height))\n"
   ]
  },
  {
   "cell_type": "code",
   "execution_count": 11,
   "metadata": {},
   "outputs": [
    {
     "name": "stdout",
     "output_type": "stream",
     "text": [
      "x(min)=4\n",
      "y(sec)=5\n",
      "z(km)=1\n",
      "Speed=9.2 miles/hour\n"
     ]
    }
   ],
   "source": [
    "#3-29\n",
    "x=eval(input('x(min)='))\n",
    "y=eval(input('y(sec)='))\n",
    "z=eval(input('z(km)='))\n",
    "print('Speed=%.1f miles/hour'%(z/1.6/(x/60+y/3600)))"
   ]
  },
  {
   "cell_type": "code",
   "execution_count": 12,
   "metadata": {},
   "outputs": [
    {
     "name": "stdout",
     "output_type": "stream",
     "text": [
      "x(miles)=3\n",
      "Km=1.88\n"
     ]
    }
   ],
   "source": [
    "#3-30\n",
    "x=eval(input('x(miles)='))\n",
    "print('Km=%.2f'%(x/1.6))"
   ]
  },
  {
   "cell_type": "code",
   "execution_count": 13,
   "metadata": {},
   "outputs": [
    {
     "name": "stdout",
     "output_type": "stream",
     "text": [
      "x(F)=65\n",
      "C=18.333333\n"
     ]
    }
   ],
   "source": [
    "#3-30\n",
    "x=eval(input('x(F)='))\n",
    "print('C=%2f'%((x-32)*5/9))"
   ]
  },
  {
   "cell_type": "code",
   "execution_count": 15,
   "metadata": {},
   "outputs": [
    {
     "name": "stdout",
     "output_type": "stream",
     "text": [
      "x=3\n",
      "y=4\n",
      "z=6\n",
      "total=13\n",
      "average=4.3333\n"
     ]
    }
   ],
   "source": [
    "#3-30\n",
    "x=eval(input('x='))\n",
    "y=eval(input('y='))\n",
    "z=eval(input('z='))\n",
    "print('total=%2d'%(x+y+z))\n",
    "print('average=%.4f'%((x+y+z)/3))"
   ]
  },
  {
   "cell_type": "code",
   "execution_count": 16,
   "metadata": {},
   "outputs": [
    {
     "name": "stdout",
     "output_type": "stream",
     "text": [
      "姓名=annie\n",
      "學號=109230098\n",
      "地址=annie1003\n",
      "annie\n",
      "109230098\n",
      "annie1003\n"
     ]
    }
   ],
   "source": [
    "#3-30\n",
    "x=str(input('姓名='))\n",
    "y=eval(input('學號='))\n",
    "z=str(input('地址='))\n",
    "print(x)\n",
    "print(int(y))\n",
    "print(z)"
   ]
  },
  {
   "cell_type": "code",
   "execution_count": 17,
   "metadata": {},
   "outputs": [
    {
     "name": "stdout",
     "output_type": "stream",
     "text": [
      "radius=5\n",
      "area=78.539816\n",
      "perimeter=31.41593\n"
     ]
    }
   ],
   "source": [
    "#3-30\n",
    "import math\n",
    "x=int(input('radius='))\n",
    "area=x**2*(math.pi)\n",
    "perimeter=x*2*(math.pi)\n",
    "print('area=%5f'%(x*x*(math.pi)))\n",
    "print('perimeter=%.5f'%(x*2*(math.pi)))"
   ]
  },
  {
   "cell_type": "code",
   "execution_count": 18,
   "metadata": {},
   "outputs": [
    {
     "name": "stdout",
     "output_type": "stream",
     "text": [
      "long=6\n",
      "short=4\n",
      "area=24\n",
      "perimeter=20\n"
     ]
    }
   ],
   "source": [
    "#3-30\n",
    "x=int(input('long='))\n",
    "y=int(input('short='))\n",
    "area=x*y\n",
    "perimeter=(x+y)*2\n",
    "print('area=%d'%(x*y))\n",
    "print('perimeter=%d'%((x+y)*2))"
   ]
  },
  {
   "cell_type": "code",
   "execution_count": 19,
   "metadata": {},
   "outputs": [
    {
     "name": "stdout",
     "output_type": "stream",
     "text": [
      "x=5\n",
      "y=3\n",
      "(3+4*x)/5-10*(y-5)*(x+y+5)/x+9*(4/x+(9+x)/y=105.80\n"
     ]
    }
   ],
   "source": [
    "#3-30\n",
    "x=eval(input('x='))\n",
    "y=eval(input('y='))\n",
    "print('(3+4*x)/5-10*(y-5)*(x+y+5)/x+9*(4/x+(9+x)/y=%.2f'%((3+4*x)/5-10*(y-5)*(x+y+5)/x+9*(4/x+(9+x)/y)))"
   ]
  },
  {
   "cell_type": "code",
   "execution_count": 20,
   "metadata": {},
   "outputs": [
    {
     "name": "stdout",
     "output_type": "stream",
     "text": [
      "a=2\n",
      "b=5\n",
      "c=4\n",
      "4/(3*(a+34))-9*(a+b*c)+(3+3*(2+a))/(a+3*b)=-197.08\n"
     ]
    }
   ],
   "source": [
    "#3-30\n",
    "a=eval(input('a='))\n",
    "b=eval(input('b='))\n",
    "c=eval(input('c='))\n",
    "print('4/(3*(a+34))-9*(a+b*c)+(3+3*(2+a))/(a+3*b)=%.2f'%(4/(3*(a+34))-9*(a+b*c)+(3+3*(2+a))/(a+3*b)))"
   ]
  },
  {
   "cell_type": "code",
   "execution_count": 21,
   "metadata": {},
   "outputs": [
    {
     "name": "stdout",
     "output_type": "stream",
     "text": [
      "n=2\n",
      "s=5\n",
      "area=(n*s**2)/(4*tan(pi/n))=0.00000000000000\n"
     ]
    }
   ],
   "source": [
    "#4-18\n",
    "import math as mh\n",
    "n=eval(input('n='))\n",
    "s=eval(input('s='))\n",
    "print('area=(n*s**2)/(4*tan(pi/n))=%.14f'%((n*s**2)/(4*mh.tan(mh.pi/n))))"
   ]
  },
  {
   "cell_type": "code",
   "execution_count": 22,
   "metadata": {},
   "outputs": [
    {
     "name": "stdout",
     "output_type": "stream",
     "text": [
      "x1=3\n",
      "x2=5\n",
      "y1=6\n",
      "y2=7\n",
      "((x1-x2)**2+(y1-y2)**2)**0.5=2.236067977499790\n"
     ]
    }
   ],
   "source": [
    "#4-18\n",
    "x1=eval(input('x1='))\n",
    "x2=eval(input('x2='))\n",
    "y1=eval(input('y1='))\n",
    "y2=eval(input('y2='))\n",
    "print('((x1-x2)**2+(y1-y2)**2)**0.5=%.15f'%(((x1-x2)**2+(y1-y2)**2)**0.5))"
   ]
  },
  {
   "cell_type": "code",
   "execution_count": 23,
   "metadata": {},
   "outputs": [
    {
     "name": "stdout",
     "output_type": "stream",
     "text": [
      "a=2\n",
      "b=4\n",
      "c=5\n",
      "area=(s*(s-a)*(s-b)*(s-c))**0.5=4\n"
     ]
    }
   ],
   "source": [
    "#4-19\n",
    "a=eval(input('a='))\n",
    "b=eval(input('b='))\n",
    "c=eval(input('c='))\n",
    "s=(a+b+c)/2\n",
    "print('area=(s*(s-a)*(s-b)*(s-c))**0.5=%.f'%((s*(s-a)*(s-b)*(s-c))**0.5))"
   ]
  },
  {
   "cell_type": "code",
   "execution_count": 30,
   "metadata": {},
   "outputs": [
    {
     "name": "stdout",
     "output_type": "stream",
     "text": [
      "a:2\n",
      "b:8\n",
      "c:3\n",
      "solution1:-0.42\n",
      "solution2:-3.58\n"
     ]
    }
   ],
   "source": [
    "#4-19\n",
    "a=eval(input('a:'))\n",
    "b=eval(input('b:'))\n",
    "c=eval(input('c:'))\n",
    "D=b**2-4*a*c\n",
    "print(\"solution1:%.2f\"%(((-1)*b+D**0.5)/(2*a)))\n",
    "print(\"solution2:%.2f\"%(((-1)*b-D**0.5)/(2*a)))"
   ]
  },
  {
   "cell_type": "code",
   "execution_count": 31,
   "metadata": {},
   "outputs": [
    {
     "name": "stdout",
     "output_type": "stream",
     "text": [
      "請輸入緯度1,經度1:39.55,-116.24\n",
      "請輸入緯度2,經度2:41.5,87.37\n",
      "15604.932312486775\n",
      "39.55 -116.24\n",
      "41.5 87.37\n"
     ]
    }
   ],
   "source": [
    "#4-19\n",
    "import math\n",
    "x1,y1=input('請輸入緯度1,經度1:').split(\",\")\n",
    "x2,y2=input('請輸入緯度2,經度2:').split(\",\")\n",
    "d=6371.01*math.acos(math.sin(eval(x1))*math.sin(eval(x2))+math.cos(eval(x1))*math.cos(eval(x2))*math.cos(eval(y1)-eval(y2)))\n",
    "print(d)\n",
    "print(x1,y1)\n",
    "print(x2,y2)\n"
   ]
  },
  {
   "cell_type": "code",
   "execution_count": 50,
   "metadata": {},
   "outputs": [
    {
     "ename": "TypeError",
     "evalue": "unsupported operand type(s) for /: 'tuple' and 'tuple'",
     "output_type": "error",
     "traceback": [
      "\u001b[1;31m---------------------------------------------------------------------------\u001b[0m",
      "\u001b[1;31mTypeError\u001b[0m                                 Traceback (most recent call last)",
      "\u001b[1;32m<ipython-input-50-94c8a48b933c>\u001b[0m in \u001b[0;36m<module>\u001b[1;34m\u001b[0m\n\u001b[0;32m      4\u001b[0m     \u001b[0ma\u001b[0m\u001b[1;33m=\u001b[0m\u001b[1;33m(\u001b[0m\u001b[1;36m1\u001b[0m\u001b[1;33m+\u001b[0m\u001b[0mi\u001b[0m\u001b[1;33m,\u001b[0m\u001b[1;36m2\u001b[0m\u001b[1;33m)\u001b[0m\u001b[1;33m\u001b[0m\u001b[1;33m\u001b[0m\u001b[0m\n\u001b[0;32m      5\u001b[0m     \u001b[0mb\u001b[0m\u001b[1;33m=\u001b[0m\u001b[1;33m(\u001b[0m\u001b[1;36m3\u001b[0m\u001b[1;33m+\u001b[0m\u001b[0mi\u001b[0m\u001b[1;33m,\u001b[0m\u001b[1;36m2\u001b[0m\u001b[1;33m)\u001b[0m\u001b[1;33m\u001b[0m\u001b[1;33m\u001b[0m\u001b[0m\n\u001b[1;32m----> 6\u001b[1;33m     \u001b[0mc\u001b[0m\u001b[1;33m=\u001b[0m\u001b[0ma\u001b[0m\u001b[1;33m/\u001b[0m\u001b[0mb\u001b[0m\u001b[1;33m\u001b[0m\u001b[1;33m\u001b[0m\u001b[0m\n\u001b[0m\u001b[0;32m      7\u001b[0m     \u001b[0mtotal\u001b[0m\u001b[1;33m+=\u001b[0m\u001b[0mc\u001b[0m\u001b[1;33m\u001b[0m\u001b[1;33m\u001b[0m\u001b[0m\n\u001b[0;32m      8\u001b[0m     \u001b[0mprint\u001b[0m\u001b[1;33m(\u001b[0m\u001b[1;34m'%d/%d'\u001b[0m\u001b[1;33m%\u001b[0m\u001b[1;33m(\u001b[0m\u001b[0ma\u001b[0m\u001b[1;33m,\u001b[0m\u001b[0mb\u001b[0m\u001b[1;33m)\u001b[0m\u001b[1;33m)\u001b[0m\u001b[1;33m\u001b[0m\u001b[1;33m\u001b[0m\u001b[0m\n",
      "\u001b[1;31mTypeError\u001b[0m: unsupported operand type(s) for /: 'tuple' and 'tuple'"
     ]
    }
   ],
   "source": [
    "#6-54\n",
    "total=0 \n",
    "for i in range(0,49): \n",
    "    a=(1+i,2) \n",
    "    b=(3+i,2) \n",
    "    c=a/b\n",
    "    total+=c \n",
    "    print('%d/%d'%(a,b)) \n",
    "print('%.3f'%(total))"
   ]
  },
  {
   "cell_type": "markdown",
   "metadata": {},
   "source": [
    "# 6-54\n",
    "total=0\n",
    "for i in range(0,49):\n",
    "    a=(1+i*2)\n",
    "    b=(3+i*2)\n",
    "    c=a/b\n",
    "    total+=c\n",
    "    print('%d/%d'%(a,b))\n",
    "print('%.3f'%(total))    "
   ]
  },
  {
   "cell_type": "code",
   "execution_count": 51,
   "metadata": {},
   "outputs": [
    {
     "name": "stdout",
     "output_type": "stream",
     "text": [
      "幾位員工?6\n",
      "第1位員工的銷售量1\n",
      "第2位員工的銷售量3999\n",
      "第3位員工的銷售量56666\n",
      "第4位員工的銷售量44444\n",
      "第5位員工的銷售量333\n",
      "第6位員工的銷售量2345\n",
      "52845\n",
      "    員工編號                     薪水\n",
      "0  第0位員工       6000=6000+0.10*1\n",
      "1  第1位員工    6399=6000+0.10*3999\n",
      "2  第2位員工  15066=6000+0.16*56666\n",
      "3  第3位員工  13111=6000+0.16*44444\n",
      "4  第4位員工     6033=6000+0.10*333\n",
      "5  第5位員工    6234=6000+0.10*2345\n"
     ]
    }
   ],
   "source": [
    "#6-54\n",
    "#utf-8\n",
    "import pandas as pd\n",
    "total_salary=0\n",
    "number_of_staff=eval(input('幾位員工?'))\n",
    "staff_salary={}\n",
    "for i in range(number_of_staff):\n",
    "    sales_number=eval(input('第%d位員工的銷售量'%(i+1)))\n",
    "    if sales_number>=15000:\n",
    "        bonus_rate=0.16\n",
    "    elif sales_number>=10000:\n",
    "        bonus_rate=0.14\n",
    "    elif sales_number>=5000:\n",
    "        bonus_rate=0.12\n",
    "    else:\n",
    "        bonus_rate=0.1\n",
    "    total_salary+=6000+bonus_rate*sales_number\n",
    "    staff_salary['第%d位員工'%(i)]='%d'%(6000+bonus_rate*sales_number)+'=6000+%.2f*%d'%(bonus_rate,sales_number)\n",
    "df = pd.DataFrame(list(staff_salary.items()),columns = ['員工編號','薪水'])\n",
    "print('%d'%(total_salary))\n",
    "print(df)\n",
    "        "
   ]
  },
  {
   "cell_type": "code",
   "execution_count": 52,
   "metadata": {},
   "outputs": [
    {
     "name": "stdout",
     "output_type": "stream",
     "text": [
      "result from the left:7.7408\n",
      "result from the right:9.2768\n",
      "real result:9.2768\n"
     ]
    }
   ],
   "source": [
    "#6-54\n",
    "result_left_to_right=0\n",
    "result_right_to_left=0\n",
    "true_total=0\n",
    "n=6000\n",
    "for i in range(1,n+1):\n",
    "    if 1/i > result_left_to_right*0.0001:\n",
    "        result_left_to_right+=1/i\n",
    "    else:\n",
    "        pass\n",
    "    if 1/(n-i+1) > result_right_to_left*0.0001:\n",
    "        result_right_to_left+=1/(n-i+1)\n",
    "    else:\n",
    "        pass\n",
    "    true_total+=1/i\n",
    "print('result from the left:%.4f\\nresult from the right:%.4f'%(result_left_to_right,result_right_to_left))\n",
    "print('real result:%.4f'%(true_total)) "
   ]
  },
  {
   "cell_type": "code",
   "execution_count": 53,
   "metadata": {},
   "outputs": [
    {
     "name": "stdout",
     "output_type": "stream",
     "text": [
      "1*1/((2)^0.5+(3)^0.5)\n",
      "-1*1/((3)^0.5+(4)^0.5)\n",
      "1*1/((4)^0.5+(5)^0.5)\n",
      "-1*1/((5)^0.5+(6)^0.5)\n",
      "1*1/((6)^0.5+(7)^0.5)\n",
      "-1*1/((7)^0.5+(8)^0.5)\n",
      "1*1/((8)^0.5+(9)^0.5)\n",
      "-1*1/((9)^0.5+(10)^0.5)\n",
      "1*1/((10)^0.5+(11)^0.5)\n",
      "-1*1/((11)^0.5+(12)^0.5)\n",
      "1*1/((12)^0.5+(13)^0.5)\n",
      "-1*1/((13)^0.5+(14)^0.5)\n",
      "1*1/((14)^0.5+(15)^0.5)\n",
      "-1*1/((15)^0.5+(16)^0.5)\n",
      "1*1/((16)^0.5+(17)^0.5)\n",
      "-1*1/((17)^0.5+(18)^0.5)\n",
      "1*1/((18)^0.5+(19)^0.5)\n",
      "-1*1/((19)^0.5+(20)^0.5)\n",
      "1*1/((20)^0.5+(21)^0.5)\n",
      "-1*1/((21)^0.5+(22)^0.5)\n",
      "1*1/((22)^0.5+(23)^0.5)\n",
      "-1*1/((23)^0.5+(24)^0.5)\n",
      "1*1/((24)^0.5+(25)^0.5)\n",
      "-1*1/((25)^0.5+(26)^0.5)\n",
      "1*1/((26)^0.5+(27)^0.5)\n",
      "-1*1/((27)^0.5+(28)^0.5)\n",
      "1*1/((28)^0.5+(29)^0.5)\n",
      "-1*1/((29)^0.5+(30)^0.5)\n",
      "1*1/((30)^0.5+(31)^0.5)\n",
      "-1*1/((31)^0.5+(32)^0.5)\n",
      "1*1/((32)^0.5+(33)^0.5)\n",
      "-1*1/((33)^0.5+(34)^0.5)\n",
      "1*1/((34)^0.5+(35)^0.5)\n",
      "-1*1/((35)^0.5+(36)^0.5)\n",
      "1*1/((36)^0.5+(37)^0.5)\n",
      "-1*1/((37)^0.5+(38)^0.5)\n",
      "1*1/((38)^0.5+(39)^0.5)\n",
      "-1*1/((39)^0.5+(40)^0.5)\n",
      "1*1/((40)^0.5+(41)^0.5)\n",
      "-1*1/((41)^0.5+(42)^0.5)\n",
      "1*1/((42)^0.5+(43)^0.5)\n",
      "-1*1/((43)^0.5+(44)^0.5)\n",
      "1*1/((44)^0.5+(45)^0.5)\n",
      "-1*1/((45)^0.5+(46)^0.5)\n",
      "1*1/((46)^0.5+(47)^0.5)\n",
      "-1*1/((47)^0.5+(48)^0.5)\n",
      "1*1/((48)^0.5+(49)^0.5)\n",
      "-1*1/((49)^0.5+(50)^0.5)\n",
      "1*1/((50)^0.5+(51)^0.5)\n",
      "-1*1/((51)^0.5+(52)^0.5)\n",
      "1*1/((52)^0.5+(53)^0.5)\n",
      "-1*1/((53)^0.5+(54)^0.5)\n",
      "1*1/((54)^0.5+(55)^0.5)\n",
      "-1*1/((55)^0.5+(56)^0.5)\n",
      "1*1/((56)^0.5+(57)^0.5)\n",
      "-1*1/((57)^0.5+(58)^0.5)\n",
      "1*1/((58)^0.5+(59)^0.5)\n",
      "-1*1/((59)^0.5+(60)^0.5)\n",
      "1*1/((60)^0.5+(61)^0.5)\n",
      "-1*1/((61)^0.5+(62)^0.5)\n",
      "1*1/((62)^0.5+(63)^0.5)\n",
      "-1*1/((63)^0.5+(64)^0.5)\n",
      "1*1/((64)^0.5+(65)^0.5)\n",
      "-1*1/((65)^0.5+(66)^0.5)\n",
      "1*1/((66)^0.5+(67)^0.5)\n",
      "-1*1/((67)^0.5+(68)^0.5)\n",
      "1*1/((68)^0.5+(69)^0.5)\n",
      "-1*1/((69)^0.5+(70)^0.5)\n",
      "1*1/((70)^0.5+(71)^0.5)\n",
      "-1*1/((71)^0.5+(72)^0.5)\n",
      "1*1/((72)^0.5+(73)^0.5)\n",
      "-1*1/((73)^0.5+(74)^0.5)\n",
      "1*1/((74)^0.5+(75)^0.5)\n",
      "-1*1/((75)^0.5+(76)^0.5)\n",
      "1*1/((76)^0.5+(77)^0.5)\n",
      "-1*1/((77)^0.5+(78)^0.5)\n",
      "1*1/((78)^0.5+(79)^0.5)\n",
      "-1*1/((79)^0.5+(80)^0.5)\n",
      "1*1/((80)^0.5+(81)^0.5)\n",
      "-1*1/((81)^0.5+(82)^0.5)\n",
      "1*1/((82)^0.5+(83)^0.5)\n",
      "-1*1/((83)^0.5+(84)^0.5)\n",
      "1*1/((84)^0.5+(85)^0.5)\n",
      "-1*1/((85)^0.5+(86)^0.5)\n",
      "1*1/((86)^0.5+(87)^0.5)\n",
      "-1*1/((87)^0.5+(88)^0.5)\n",
      "1*1/((88)^0.5+(89)^0.5)\n",
      "-1*1/((89)^0.5+(90)^0.5)\n",
      "1*1/((90)^0.5+(91)^0.5)\n",
      "-1*1/((91)^0.5+(92)^0.5)\n",
      "1*1/((92)^0.5+(93)^0.5)\n",
      "-1*1/((93)^0.5+(94)^0.5)\n",
      "1*1/((94)^0.5+(95)^0.5)\n",
      "-1*1/((95)^0.5+(96)^0.5)\n",
      "1*1/((96)^0.5+(97)^0.5)\n",
      "-1*1/((97)^0.5+(98)^0.5)\n",
      "1*1/((98)^0.5+(99)^0.5)\n",
      "-1*1/((99)^0.5+(100)^0.5)\n",
      "1*1/((100)^0.5+(101)^0.5)\n",
      "-1*1/((101)^0.5+(102)^0.5)\n",
      "1*1/((102)^0.5+(103)^0.5)\n",
      "-1*1/((103)^0.5+(104)^0.5)\n",
      "1*1/((104)^0.5+(105)^0.5)\n",
      "-1*1/((105)^0.5+(106)^0.5)\n",
      "1*1/((106)^0.5+(107)^0.5)\n",
      "-1*1/((107)^0.5+(108)^0.5)\n",
      "1*1/((108)^0.5+(109)^0.5)\n",
      "-1*1/((109)^0.5+(110)^0.5)\n",
      "1*1/((110)^0.5+(111)^0.5)\n",
      "-1*1/((111)^0.5+(112)^0.5)\n",
      "1*1/((112)^0.5+(113)^0.5)\n",
      "-1*1/((113)^0.5+(114)^0.5)\n",
      "1*1/((114)^0.5+(115)^0.5)\n",
      "-1*1/((115)^0.5+(116)^0.5)\n",
      "1*1/((116)^0.5+(117)^0.5)\n",
      "-1*1/((117)^0.5+(118)^0.5)\n",
      "1*1/((118)^0.5+(119)^0.5)\n",
      "-1*1/((119)^0.5+(120)^0.5)\n",
      "1*1/((120)^0.5+(121)^0.5)\n",
      "-1*1/((121)^0.5+(122)^0.5)\n",
      "1*1/((122)^0.5+(123)^0.5)\n",
      "-1*1/((123)^0.5+(124)^0.5)\n",
      "1*1/((124)^0.5+(125)^0.5)\n",
      "-1*1/((125)^0.5+(126)^0.5)\n",
      "1*1/((126)^0.5+(127)^0.5)\n",
      "-1*1/((127)^0.5+(128)^0.5)\n",
      "1*1/((128)^0.5+(129)^0.5)\n",
      "-1*1/((129)^0.5+(130)^0.5)\n",
      "1*1/((130)^0.5+(131)^0.5)\n",
      "-1*1/((131)^0.5+(132)^0.5)\n",
      "1*1/((132)^0.5+(133)^0.5)\n",
      "-1*1/((133)^0.5+(134)^0.5)\n",
      "1*1/((134)^0.5+(135)^0.5)\n",
      "-1*1/((135)^0.5+(136)^0.5)\n",
      "1*1/((136)^0.5+(137)^0.5)\n",
      "-1*1/((137)^0.5+(138)^0.5)\n",
      "1*1/((138)^0.5+(139)^0.5)\n",
      "-1*1/((139)^0.5+(140)^0.5)\n",
      "1*1/((140)^0.5+(141)^0.5)\n",
      "-1*1/((141)^0.5+(142)^0.5)\n",
      "1*1/((142)^0.5+(143)^0.5)\n",
      "-1*1/((143)^0.5+(144)^0.5)\n",
      "1*1/((144)^0.5+(145)^0.5)\n",
      "-1*1/((145)^0.5+(146)^0.5)\n",
      "1*1/((146)^0.5+(147)^0.5)\n",
      "-1*1/((147)^0.5+(148)^0.5)\n",
      "1*1/((148)^0.5+(149)^0.5)\n",
      "-1*1/((149)^0.5+(150)^0.5)\n",
      "1*1/((150)^0.5+(151)^0.5)\n",
      "-1*1/((151)^0.5+(152)^0.5)\n",
      "1*1/((152)^0.5+(153)^0.5)\n",
      "-1*1/((153)^0.5+(154)^0.5)\n",
      "1*1/((154)^0.5+(155)^0.5)\n",
      "-1*1/((155)^0.5+(156)^0.5)\n",
      "1*1/((156)^0.5+(157)^0.5)\n",
      "-1*1/((157)^0.5+(158)^0.5)\n",
      "1*1/((158)^0.5+(159)^0.5)\n",
      "-1*1/((159)^0.5+(160)^0.5)\n",
      "1*1/((160)^0.5+(161)^0.5)\n",
      "-1*1/((161)^0.5+(162)^0.5)\n",
      "1*1/((162)^0.5+(163)^0.5)\n",
      "-1*1/((163)^0.5+(164)^0.5)\n",
      "1*1/((164)^0.5+(165)^0.5)\n",
      "-1*1/((165)^0.5+(166)^0.5)\n",
      "1*1/((166)^0.5+(167)^0.5)\n",
      "-1*1/((167)^0.5+(168)^0.5)\n",
      "1*1/((168)^0.5+(169)^0.5)\n",
      "-1*1/((169)^0.5+(170)^0.5)\n",
      "1*1/((170)^0.5+(171)^0.5)\n",
      "-1*1/((171)^0.5+(172)^0.5)\n",
      "1*1/((172)^0.5+(173)^0.5)\n",
      "-1*1/((173)^0.5+(174)^0.5)\n",
      "1*1/((174)^0.5+(175)^0.5)\n",
      "-1*1/((175)^0.5+(176)^0.5)\n",
      "1*1/((176)^0.5+(177)^0.5)\n",
      "-1*1/((177)^0.5+(178)^0.5)\n",
      "1*1/((178)^0.5+(179)^0.5)\n",
      "-1*1/((179)^0.5+(180)^0.5)\n",
      "1*1/((180)^0.5+(181)^0.5)\n",
      "-1*1/((181)^0.5+(182)^0.5)\n",
      "1*1/((182)^0.5+(183)^0.5)\n",
      "-1*1/((183)^0.5+(184)^0.5)\n",
      "1*1/((184)^0.5+(185)^0.5)\n",
      "-1*1/((185)^0.5+(186)^0.5)\n",
      "1*1/((186)^0.5+(187)^0.5)\n",
      "-1*1/((187)^0.5+(188)^0.5)\n",
      "1*1/((188)^0.5+(189)^0.5)\n",
      "-1*1/((189)^0.5+(190)^0.5)\n",
      "1*1/((190)^0.5+(191)^0.5)\n",
      "-1*1/((191)^0.5+(192)^0.5)\n",
      "1*1/((192)^0.5+(193)^0.5)\n",
      "-1*1/((193)^0.5+(194)^0.5)\n",
      "1*1/((194)^0.5+(195)^0.5)\n",
      "-1*1/((195)^0.5+(196)^0.5)\n",
      "1*1/((196)^0.5+(197)^0.5)\n",
      "-1*1/((197)^0.5+(198)^0.5)\n",
      "1*1/((198)^0.5+(199)^0.5)\n",
      "-1*1/((199)^0.5+(200)^0.5)\n",
      "1*1/((200)^0.5+(201)^0.5)\n",
      "0.19205680071042858\n"
     ]
    }
   ],
   "source": [
    "#6-55\n",
    "sum=0\n",
    "n=201-3+1\n",
    "for i in range(1,n+1):\n",
    "    sum+=1/((1+i)**0.5+(2+i)**0.5)*(-1)**(i+1)\n",
    "    print('%d*1/((%d)^0.5+(%d)^0.5)'%((-1)**(i+1),1+i,2+i))\n",
    "print (sum)"
   ]
  },
  {
   "cell_type": "code",
   "execution_count": 54,
   "metadata": {},
   "outputs": [
    {
     "name": "stdout",
     "output_type": "stream",
     "text": [
      "需要15年,學費達71061.85,第14年學費為69668.48\n"
     ]
    }
   ],
   "source": [
    "#6-55\n",
    "initial_fee=52800\n",
    "year=0\n",
    "while initial_fee<70000:\n",
    "    initial_fee*=1.02\n",
    "    year+=1\n",
    "print ('需要%d年,學費達%.2f,第%d年學費為%.2f'%(year,initial_fee,year-1,initial_fee/1.02))"
   ]
  },
  {
   "cell_type": "code",
   "execution_count": 55,
   "metadata": {},
   "outputs": [
    {
     "name": "stdout",
     "output_type": "stream",
     "text": [
      "2004 2008 2012 2016 2020 \n",
      "\n",
      "2024 2028 2032 2036 2040 \n",
      "\n",
      "2044 2048 2052 2056 2060 \n",
      "\n",
      "2064 2068 2072 2076 2080 \n",
      "\n",
      "2084 2088 2092 2096 "
     ]
    }
   ],
   "source": [
    "#6-55\n",
    "n=0\n",
    "for i in range(2001,2100):\n",
    "    if (i%400==0) or((i%100!=0)&(i%4==0)):\n",
    "        n+=1\n",
    "        print('%d'%(i),end=\" \")\n",
    "        if (n)%5==0:\n",
    "            print('\\n')\n",
    "        "
   ]
  },
  {
   "cell_type": "code",
   "execution_count": null,
   "metadata": {},
   "outputs": [],
   "source": [
    "#6-55\n",
    "print('1號候選人:苡凡, 2號候選人:果寧, 3號候選人:心塡','廢票:請輸入0')\n",
    "result={}\n",
    "result[1],result[2],result[3],result[0]=0,0,0,0\n",
    "for i in range(10):\n",
    "    num=input('輸入想要投給的候選人編號:')\n",
    "    while True:\n",
    "        try:\n",
    "            num=eval(num)\n",
    "            break\n",
    "        except:\n",
    "            print('叫你輸入編號,是看不懂人話484 =ˇ=\" ')\n",
    "            num=input('輸入想要投給的候選人編號:')\n",
    "    result[num]+=1\n",
    "\n",
    "values=list(result.values())\n",
    "print(values)\n",
    "values.sort(reverse=True)\n",
    "if values[0]==values[1]:\n",
    "    print('有平票問題')\n",
    "else:\n",
    "    print('%d號候選人當選'%(max(result,key=result.get)))"
   ]
  },
  {
   "cell_type": "markdown",
   "metadata": {},
   "source": [
    "#6-55\n",
    "import random as rd\n",
    "random_num=[]\n",
    "even_num=0\n",
    "for i in range(100):\n",
    "    random_num.append(rd.randint(100,200))\n",
    "    if random_num[i]%2==0:\n",
    "        even_num+=1\n",
    "print('偶數有%d個,奇數有%d個'%(even_num,100-even_num))\n",
    "print(random_num)"
   ]
  },
  {
   "cell_type": "code",
   "execution_count": 56,
   "metadata": {},
   "outputs": [
    {
     "name": "stdout",
     "output_type": "stream",
     "text": [
      "第1筆分數:45\n",
      "第2筆分數:65\n",
      "第3筆分數:78\n",
      "第4筆分數:90\n",
      "第5筆分數:65\n",
      "第6筆分數:43\n",
      "第7筆分數:32\n",
      "第8筆分數:77\n",
      "第9筆分數:-1\n",
      "平均分數為61.88\n"
     ]
    }
   ],
   "source": [
    "#6-55\n",
    "total=0\n",
    "n=1\n",
    "while True:\n",
    "    score=eval(input('第%d筆分數:'%(n)))\n",
    "    if score==-1:\n",
    "        break\n",
    "    total+=score\n",
    "    n+=1\n",
    "print('平均分數為%.2f'%(total/(n-1)))\n"
   ]
  },
  {
   "cell_type": "code",
   "execution_count": 57,
   "metadata": {},
   "outputs": [
    {
     "name": "stdout",
     "output_type": "stream",
     "text": [
      "第1個年份:2001\n",
      "第2個年份:2004\n",
      "2004\n"
     ]
    }
   ],
   "source": [
    "#6-55\n",
    "year1=eval(input('第1個年份:'))\n",
    "year2=eval(input('第2個年份:'))\n",
    "for i in range(year1,year2+1):\n",
    "    if (i%400==0) or((i%100!=0)&(i%4==0)):\n",
    "        print(i)"
   ]
  },
  {
   "cell_type": "code",
   "execution_count": 58,
   "metadata": {},
   "outputs": [
    {
     "name": "stdout",
     "output_type": "stream",
     "text": [
      "Price=5000\n",
      "實付金額為:4750\n"
     ]
    }
   ],
   "source": [
    "#5-45\n",
    "price=eval(input('Price='))\n",
    "if price>=35000:\n",
    "    price*=0.8\n",
    "elif price>=25000:\n",
    "    price*=0.85\n",
    "elif price>=15000:\n",
    "    price*=0.9\n",
    "elif price>=5000:\n",
    "    price*=0.95\n",
    "    \n",
    "print('實付金額為:%d'%(price))"
   ]
  },
  {
   "cell_type": "code",
   "execution_count": 59,
   "metadata": {},
   "outputs": [
    {
     "name": "stdout",
     "output_type": "stream",
     "text": [
      "which month?(enter numbers)12\n",
      "Winter\n"
     ]
    }
   ],
   "source": [
    "#5-45\n",
    "month=eval(input('which month?(enter numbers)'))\n",
    "if month in (1,2,3):\n",
    "    print('Spring')\n",
    "elif month in [4,5,6]:\n",
    "    print('Summer')\n",
    "elif month in [7,8,9]:\n",
    "    print('Autumn')\n",
    "else:\n",
    "    print('Winter')"
   ]
  },
  {
   "cell_type": "code",
   "execution_count": 60,
   "metadata": {},
   "outputs": [
    {
     "name": "stdout",
     "output_type": "stream",
     "text": [
      "Age=18\n",
      "票價為:890\n"
     ]
    }
   ],
   "source": [
    "#5-45\n",
    "Age=eval(input('Age='))\n",
    "if Age>=60:\n",
    "    price=399\n",
    "elif Age>=18:\n",
    "    price=890\n",
    "elif Age>=12:\n",
    "    price=790\n",
    "elif Age>=6:\n",
    "    price=590\n",
    "    \n",
    "print('票價為:%d'%(price))"
   ]
  },
  {
   "cell_type": "code",
   "execution_count": 62,
   "metadata": {},
   "outputs": [
    {
     "name": "stdout",
     "output_type": "stream",
     "text": [
      "Number=3\n",
      "3的倍數\n"
     ]
    }
   ],
   "source": [
    "#5-45\n",
    "num=eval(input('Number='))\n",
    "if num%5==0 & num%3==0:\n",
    "    print('3和5的倍數')\n",
    "elif num%5==0:\n",
    "    print('5的倍數')\n",
    "elif num%3==0:\n",
    "    print('3的倍數')\n",
    "else:\n",
    "    print('不為3或5的倍數')\n",
    "    "
   ]
  },
  {
   "cell_type": "code",
   "execution_count": 63,
   "metadata": {},
   "outputs": [
    {
     "name": "stdout",
     "output_type": "stream",
     "text": [
      "income=10000\n",
      "應課稅金額:500\n"
     ]
    }
   ],
   "source": [
    "#5-45\n",
    "tax=eval(input('income='))\n",
    "if tax>=10310001:\n",
    "    pay=tax*0.45-134510\n",
    "elif tax>=4530001:\n",
    "    pay=tax*0.40-829600\n",
    "elif tax>=2420001:\n",
    "    pay=tax*0.30-376600\n",
    "elif tax>=1210001:\n",
    "    pay=tax*0.20-134600\n",
    "elif tax>=540001:\n",
    "    pay=tax*0.12-37800\n",
    "else:\n",
    "    pay=tax*0.05\n",
    "\n",
    "    \n",
    "print('應課稅金額:%d'%(pay))\n"
   ]
  },
  {
   "cell_type": "code",
   "execution_count": 64,
   "metadata": {},
   "outputs": [
    {
     "name": "stdout",
     "output_type": "stream",
     "text": [
      "x1=2\n",
      "y1=5\n",
      "5.385164807134504\n",
      "此點在圓内\n"
     ]
    }
   ],
   "source": [
    "#5-46\n",
    "x1=eval(input('x1='))\n",
    "x2=0\n",
    "y1=eval(input('y1='))\n",
    "y2=0\n",
    "d=((x1-x2)**2+(y1-y2)**2)**0.5\n",
    "if d <=10:\n",
    "    print(d)\n",
    "    print('此點在圓内')\n",
    "if d > 10:\n",
    "    print(d)\n",
    "    print('此點在圓外')"
   ]
  },
  {
   "cell_type": "code",
   "execution_count": 65,
   "metadata": {},
   "outputs": [
    {
     "name": "stdout",
     "output_type": "stream",
     "text": [
      "a=1\n",
      "b=2\n",
      "c=2\n",
      "d=1\n",
      "此數為回文數字\n"
     ]
    }
   ],
   "source": [
    "#5-47\n",
    "a=eval(input('a='))\n",
    "b=eval(input('b='))\n",
    "c=eval(input('c='))\n",
    "d=eval(input('d='))\n",
    "if a == d and b == c:\n",
    "    print('此數為回文數字')\n",
    "else:\n",
    "    print('此數不爲回文數字')"
   ]
  },
  {
   "cell_type": "code",
   "execution_count": 66,
   "metadata": {},
   "outputs": [
    {
     "name": "stdout",
     "output_type": "stream",
     "text": [
      "a=2\n",
      "b=3\n",
      "c=4\n",
      "9\n"
     ]
    }
   ],
   "source": [
    "#5-47\n",
    "a=eval(input('a='))\n",
    "b=eval(input('b='))\n",
    "c=eval(input('c='))\n",
    "if a+b>c and a+c>b and b+c>a :\n",
    "    print(a+b+c)\n",
    "else:\n",
    "    print('此不爲三角形')"
   ]
  },
  {
   "cell_type": "code",
   "execution_count": 67,
   "metadata": {},
   "outputs": [
    {
     "name": "stdout",
     "output_type": "stream",
     "text": [
      "Is your birthday in set1?\n",
      "1 3 5 7\n",
      "9 11 13 15\n",
      "17 19 21 23\n",
      "25 27 29 31\n",
      "\n",
      "Enter 1 for Yes and 0 for No:1\n",
      "Is your birthday in set2?\n",
      "2 3 6 7\n",
      "10 11 14 15\n",
      "18 19 22 23\n",
      "26 27 30 31\n",
      "\\Enter 1 for Yes and 0 for No:1\n",
      "Is your birthday in set3?\n",
      "4 5 6 7 \n",
      "12 13 14 15\n",
      "20 21 22 23\n",
      "28 29 30 31\n",
      "n\\Enter 1 for Yes and 0 for No:1\n",
      "Is your birthday in set4?\n",
      "8 9 10 11\n",
      "12 13 14 15\n",
      "24 25 26 27\n",
      "28 29 30 31\n",
      "n\\Enter 1 for Yes and 0 for No:1\n",
      "Is your birthday in set5?\n",
      "16 17 18 19\n",
      "20 21 22 23\n",
      "24 25 26 27\n",
      "28 29 30 31\n",
      "n\\Enter 1 for Yes and 0 for No:1\n",
      "Your birthday is 27\n"
     ]
    }
   ],
   "source": [
    "#5-47\n",
    "day=0\n",
    "question1='Is your birthday in set1?\\n'+\\\n",
    "        '1 3 5 7\\n'+\\\n",
    "        '9 11 13 15\\n'+\\\n",
    "        '17 19 21 23\\n'+\\\n",
    "        '25 27 29 31\\n'+\\\n",
    "'\\nEnter 1 for Yes and 0 for No:'\n",
    "answer=eval(input(question1))\n",
    "\n",
    "if answer == 1:\n",
    "    day += 1\n",
    "    \n",
    "question2='Is your birthday in set2?\\n'+\\\n",
    "        '2 3 6 7\\n'+\\\n",
    "        '10 11 14 15\\n'+\\\n",
    "        '18 19 22 23\\n'+\\\n",
    "        '26 27 30 31\\n'+\\\n",
    "        '\\Enter 1 for Yes and 0 for No:'\n",
    "answer=eval(input(question2))\n",
    "\n",
    "if answer == 1:\n",
    "    day+=2\n",
    "    \n",
    "question3='Is your birthday in set3?\\n'+\\\n",
    "        '4 5 6 7 \\n'+\\\n",
    "        '12 13 14 15\\n'+\\\n",
    "        '20 21 22 23\\n'+\\\n",
    "        '28 29 30 31\\n'+\\\n",
    "        'n\\Enter 1 for Yes and 0 for No:'\n",
    "answer=eval(input(question3))\n",
    "\n",
    "if answer == 3:\n",
    "    day+=4\n",
    "    \n",
    "question4='Is your birthday in set4?\\n'+\\\n",
    "        '8 9 10 11\\n'+\\\n",
    "        '12 13 14 15\\n'+\\\n",
    "        '24 25 26 27\\n'+\\\n",
    "        '28 29 30 31\\n'+\\\n",
    "        'n\\Enter 1 for Yes and 0 for No:'\n",
    "answer=eval(input(question4))\n",
    "\n",
    "if answer == 1:\n",
    "    day+=8\n",
    "\n",
    "question5='Is your birthday in set5?\\n'+\\\n",
    "        '16 17 18 19\\n'+\\\n",
    "        '20 21 22 23\\n'+\\\n",
    "        '24 25 26 27\\n'+\\\n",
    "        '28 29 30 31\\n'+\\\n",
    "        'n\\Enter 1 for Yes and 0 for No:'\n",
    "answer=eval(input(question5))\n",
    "\n",
    "if answer == 1:\n",
    "    day+=16\n",
    "    \n",
    "print('Your birthday is',day)"
   ]
  },
  {
   "cell_type": "code",
   "execution_count": null,
   "metadata": {},
   "outputs": [],
   "source": []
  },
  {
   "cell_type": "code",
   "execution_count": null,
   "metadata": {},
   "outputs": [],
   "source": []
  }
 ],
 "metadata": {
  "kernelspec": {
   "display_name": "Python 3",
   "language": "python",
   "name": "python3"
  },
  "language_info": {
   "codemirror_mode": {
    "name": "ipython",
    "version": 3
   },
   "file_extension": ".py",
   "mimetype": "text/x-python",
   "name": "python",
   "nbconvert_exporter": "python",
   "pygments_lexer": "ipython3",
   "version": "3.8.3"
  }
 },
 "nbformat": 4,
 "nbformat_minor": 4
}
